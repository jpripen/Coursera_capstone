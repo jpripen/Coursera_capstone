{
 "cells": [
  {
   "cell_type": "markdown",
   "metadata": {},
   "source": [
    "# Battle of the Neighborhoods - Week 1\n",
    "## Part 2 of 2\n",
    "\n",
    "### Juan Prieto-Pena"
   ]
  },
  {
   "cell_type": "markdown",
   "metadata": {},
   "source": [
    "## Data Understanding\n",
    "\n",
    "Several datasets pertaining the city of Madrid (Spain will be used). In this document, all of them will be described.\n",
    "\n",
    "### Geographical data\n",
    "\n",
    "Several sources will be employed to reconstruct the data for the geography of the city. First of all, the list of Wikipedia's [Districts of Madrid](https://en.wikipedia.org/wiki/Districts_of_Madrid), where the name and number of the districts and neighborhoods will be collected. The table will be scraped and converted to a dataframe.\n",
    "\n",
    "Next, the name of Madrid's streets, with their latitudes, longitudes and the neighborhood and district to which they belong will be collected from the [Callejero Oficial del Ayuntamiento de Madrid](https://datos.madrid.es/portal/site/egob/menuitem.c05c1f754a33a9fbe4b2e4b284f1a5a0/?vgnextoid=b3c41f3cf6a6c410VgnVCM2000000c205a0aRCRD&vgnextchannel=374512b9ace9f310VgnVCM100000171f5a0aRCRD&vgnextfmt=default) (Madrid's official street map). \"Relación de viales por distrito y barrio, con intervalos de numeración\" contains all the information needed in a handy csv file. The data mentioned before will be collected from this source.\n",
    "\n",
    "Finally, for visualization purposes, any more data needed, such as the polygon shape of the neighborhoods and districts in order to superpose them on a map will be collected by json requests using an API from [MapIt Global](https://global.mapit.mysociety.org/area/1048911.html).\n",
    "\n",
    "### Income data\n",
    "\n",
    "The spanish Instituto Nacional de Estadística, INE, ([National Statistics Institute](https://www.ine.es/experimental/atlas/exp_atlas_tab.htm)) has all the data needed to obtain average household incomes in the city of Madrid, at a district level. It also contains information beyond the district level, but their sub-sections are different from that of neighborhoods and therefore will not be used.\n",
    "\n",
    "### Real Estate data\n",
    "\n",
    "The information for the average price of the square meter at a district level will be scraped from [Idealista data website](https://www.idealista.com/sala-de-prensa/informes-precio-vivienda/venta/madrid-comunidad/madrid-provincia/madrid/). Idealista is one of the biggest real estate agencies in spain, and they have a very interesting data analysis and visualization available to the public. Data from year 2019 for both rent and house sales will be taken for all districts of the city.\n",
    "\n",
    "### Crime data\n",
    "\n",
    "Crime data is not readily available from single sources. In order to have a general idea of the crime levels in the city, only [data from Madrid's Municipal Police](https://datos.madrid.es/sites/v/index.jsp?vgnextoid=bffff1d2a9fdb410VgnVCM2000000c205a0aRCRD&vgnextchannel=20d612b9ace9f310VgnVCM100000171f5a0aRCRD) will be taken. Excel files for each month of the year are available. The data corresponding to arrests will be taken for the year 2019 for all districts and a dataframe will be constructed containing the crime levels per district.\n",
    "\n",
    "### Amenities data\n",
    "\n",
    "The number of venues in each neighborhood and district will be taken from Foursquare using their API. This data will be used to asess the level of access to amenities (restaurants, enteratainment...) in each neighborhood.\n",
    "\n",
    "The data obtained will be combined for all neighborhoods (using information on a district level where neighborhood level is not available, such as real state, crime and income) and the data set will be fed to a K-means algorithm to segment the neighborhoods. The insights obtained will be discussed in the final report."
   ]
  }
 ],
 "metadata": {
  "kernelspec": {
   "display_name": "Python 3",
   "language": "python",
   "name": "python3"
  },
  "language_info": {
   "codemirror_mode": {
    "name": "ipython",
    "version": 3
   },
   "file_extension": ".py",
   "mimetype": "text/x-python",
   "name": "python",
   "nbconvert_exporter": "python",
   "pygments_lexer": "ipython3",
   "version": "3.7.6"
  }
 },
 "nbformat": 4,
 "nbformat_minor": 4
}
