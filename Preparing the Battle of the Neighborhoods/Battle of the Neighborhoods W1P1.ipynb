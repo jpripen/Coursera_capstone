{
 "cells": [
  {
   "cell_type": "markdown",
   "metadata": {},
   "source": [
    "# Battle of the Neighborhoods - Week 1\n",
    "## Part 1 of 2\n",
    "\n",
    "### Juan Prieto-Pena"
   ]
  },
  {
   "cell_type": "markdown",
   "metadata": {},
   "source": [
    "## Introduction\n",
    "\n",
    "This notebook contains the first part of the Coursera Capstone Project (Week 1) for the IBM Data Science Professional certificate. This project will allow the certificate candidates to demonstrate the knowledge learnt during the eight previous courses. The topic is free and the only constraint is to use Foursquare location data (by using their API) as one of the data sets employed for the project."
   ]
  },
  {
   "cell_type": "markdown",
   "metadata": {},
   "source": [
    "## Business Understanding\n",
    "\n",
    "### Background\n",
    "\n",
    "Madrid is not only Spain's capital, but also its principal business hub. It is located in almost the geographical center of the Iberian peninsula and Spain's infrastructure stems from the city in a radial network. This makes Madrid very attractive for business due to its benefitial fiscal aids from its local and regional government, the ease of travel from and to the city and its culture of entrepreneurship.\n",
    "\n",
    "The city is a major center for banking, finance, retailing, trade, media, services and tourism not only in the country, but in the European southwest. Madrid is an alpha city according to the 2018 Globalization and World Cities Research Network (GaWC). According to GaWC, \"Alpha level cities are linked to major economic states and regions and into the world economy, and are classified into four sections, Alpha ++, Alpha +, Alpha, and Alpha − cities\".\n",
    "\n",
    "Due to this, the cost of living in Madrid is higher than in other spanish cities, but the socioeconomic differences between the different neighborhoods of the city can be used to find affordable places to live.\n",
    "\n",
    "### Problem description\n",
    "\n",
    "Recently, a business in the city has been expanding its operations, and needs to recruit talent from outside the city (both nationally and internationally). To help their prospective employees, they want to analyze the level of living throughout the city to better recomend their new workforce where to settle. The insights derived from this analysis will give a good understanding of the socioeconomic conditions of the different neighborhoods of the city and will allow to tailor real estate recomendations to all their prospective employees independently of their salaries. \n",
    "\n",
    "The aim of this is to increase worker satisfaction with the company and reduce the employee churn rate and retain talent. A good worker satisfaction would also raise the customer's opinion on the company, with a posible possitive effect on their sales.\n",
    "\n",
    "The key indicators employed to analyze Madrid's neighborhoods will be:\n",
    "\n",
    "* Average income\n",
    "* Crime level\n",
    "* Ammenities in the neighborhood\n",
    "* Real estate and rent prices (per square meter)\n",
    "\n",
    "### Target audience\n",
    "\n",
    "The objective is to study the socioeconomic levels of the city in order to provide housing and living expenses recomendations to new employees of the client company. The company's management also expects to understand the rationale behind the recommendations made.\n",
    "\n",
    "The insights extracted from this analysis would also interest anyone interested in living in the city.\n",
    "\n",
    "### Success Criteria\n",
    "\n",
    "The project will be considered successful if a tiered list of Madrid's neighborhoods based on socioeconomic and business diversity in the neighborhood can be presented to the client to inform its prospective employees of their living choices in the city."
   ]
  },
  {
   "cell_type": "code",
   "execution_count": null,
   "metadata": {},
   "outputs": [],
   "source": []
  }
 ],
 "metadata": {
  "kernelspec": {
   "display_name": "Python 3",
   "language": "python",
   "name": "python3"
  },
  "language_info": {
   "codemirror_mode": {
    "name": "ipython",
    "version": 3
   },
   "file_extension": ".py",
   "mimetype": "text/x-python",
   "name": "python",
   "nbconvert_exporter": "python",
   "pygments_lexer": "ipython3",
   "version": "3.7.6"
  }
 },
 "nbformat": 4,
 "nbformat_minor": 4
}
